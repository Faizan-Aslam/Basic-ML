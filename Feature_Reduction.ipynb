{
 "cells": [
  {
   "cell_type": "markdown",
   "id": "0a447e5e",
   "metadata": {},
   "source": [
    "## Assignment 2 ATiML\n",
    "\n",
    "### 2.1 What filter techniques from the feature selection framework can be applied for a text classification task? What filters are not, or at least less, suitable for text? Justify your answer under a careful reconsideration of the nature of the features in use! For simplicityjust assume a Bag-Of-Words representation of the text.\n",
    "\n"
   ]
  },
  {
   "cell_type": "markdown",
   "id": "3f46ec00",
   "metadata": {},
   "source": [
    "Given a Bag-of Words representation of text documents our features are all the words in the vocabulary and values represent their occurence(1) or non-occurrence(1). For this use case it is appropriate to use filters for nominal data rather than numerical data. Some filtering methods that can be used in many text classification techniques include as Chi-squared, Document Frequency (DF), Information Gain (IG), and Mutual Information (MI)."
   ]
  },
  {
   "cell_type": "markdown",
   "id": "fd7037f9",
   "metadata": {},
   "source": [
    "### 2.2 Implement suitable filters (or use methods from Python Sk-learn or similar tool-kits) for a classification task of your own choice! Report performance measures (you can consider a benchmark dataset like 20 Newsgroups) of your classifiers in respect to the filtered features, e.g. on a regular grid (50, 100, 150, 200, 250, ...) of feature set sizes. Provide plots where ever possible to explain your answer.\n"
   ]
  },
  {
   "cell_type": "code",
   "execution_count": 24,
   "id": "0d6a429a",
   "metadata": {},
   "outputs": [],
   "source": [
    "# import the required module from scikit learn\n",
    "from sklearn.naive_bayes import MultinomialNB\n",
    "from sklearn import metrics\n",
    "from sklearn.metrics import ConfusionMatrixDisplay, classification_report\n",
    "from sklearn.datasets import fetch_20newsgroups\n",
    "from sklearn.feature_extraction.text import CountVectorizer\n",
    "import re\n",
    "import string\n",
    "import pandas as pd"
   ]
  },
  {
   "cell_type": "code",
   "execution_count": null,
   "id": "0ea0c3ea",
   "metadata": {},
   "outputs": [],
   "source": [
    "data_train = fetch_20newsgroups(subset='train',\n",
    "                                shuffle=True, random_state=42, )\n",
    "\n",
    "data_test = fetch_20newsgroups(subset='test',\n",
    "                               shuffle=True, random_state=42)\n",
    "\n",
    "\n",
    "target_names = data_train.target_names\n",
    "print(target_names)\n",
    "data_train.target[:10]\n",
    "\n",
    "print(len(data_train.data))\n",
    "print(len((data_test.data)))"
   ]
  },
  {
   "cell_type": "code",
   "execution_count": 26,
   "id": "93f2116e",
   "metadata": {},
   "outputs": [],
   "source": [
    "# So, first converting text data into vectors of numerical values using CountVectorizer to form feature vector\n",
    "vectorizer = CountVectorizer()\n",
    "data_train_vectors = vectorizer.fit_transform(data_train.data)\n",
    "data_test_vectors = vectorizer.transform(data_test.data) \n"
   ]
  },
  {
   "cell_type": "code",
   "execution_count": null,
   "id": "d3f47442",
   "metadata": {},
   "outputs": [],
   "source": [
    "print (data_train_vectors.shape)\n",
    "print(data_train.target.shape)\n",
    "print(type(data_train_vectors))\n",
    "\n",
    "# store training feature matrix in \"Xtr\"\n",
    "Xtr = data_train_vectors\n",
    "# store training response vector in \"ytr\"\n",
    "ytr = data_train.target\n",
    "\n",
    "# store testing feature matrix in \"Xtt\"\n",
    "Xtt = data_test_vectors\n",
    "# store testing response vector in \"ytt\"\n",
    "ytt = data_test.target"
   ]
  },
  {
   "cell_type": "code",
   "execution_count": 28,
   "id": "981e60b1",
   "metadata": {},
   "outputs": [
    {
     "data": {
      "image/png": "[encoded data removed]",
      "text/plain": [
       "<Figure size 432x288 with 1 Axes>"
      ]
     },
     "metadata": {
      "needs_background": "light"
     },
     "output_type": "display_data"
    }
   ],
   "source": [
    "# Authors: Robert McGibbon, Joel Nothman, Guillaume Lemaitre\n",
    "\n",
    "import numpy as np\n",
    "import matplotlib.pyplot as plt\n",
    "from sklearn.model_selection import GridSearchCV\n",
    "from sklearn.pipeline import Pipeline\n",
    "from sklearn.naive_bayes import MultinomialNB\n",
    "from sklearn.feature_selection import SelectKBest, chi2\n",
    "\n",
    "pipe = Pipeline(\n",
    "    [\n",
    "        # the reduce_dim stage is populated by the param_grid\n",
    "        (\"reduce_dim\", \"passthrough\"),\n",
    "        (\"classify\", MultinomialNB(alpha=.01)),\n",
    "    ]\n",
    ")\n",
    "\n",
    "N_FEATURES_OPTIONS = np.arange(50, 500, 50)\n",
    "N_FEATURES_OPTIONS_str = [str(i) for i in N_FEATURES_OPTIONS]\n",
    "\n",
    "\n",
    "\n",
    "param_grid = [\n",
    "    {\n",
    "        \"reduce_dim\": [SelectKBest(chi2)],\n",
    "        \"reduce_dim__k\": N_FEATURES_OPTIONS,\n",
    "    },\n",
    "]\n",
    "reducer_labels = [\"KBest(chi2)\"]\n",
    "\n",
    "grid = GridSearchCV(pipe, n_jobs=1, param_grid=param_grid)\n",
    "grid.fit(Xtr, ytr)\n",
    "\n",
    "mean_scores = np.array(grid.cv_results_[\"mean_test_score\"])\n",
    "# scores are in the order of param_grid iteration, which is alphabetical\n",
    "# select score for best C\n",
    "\n",
    "plt.bar(N_FEATURES_OPTIONS_str, mean_scores)\n",
    "\n",
    "plt.title(\"Feature reduction using Chi2\")\n",
    "plt.xlabel(\"Reduced number of features\")\n",
    "plt.ylabel(\"Classification accuracy\")\n",
    "plt.ylim((0, 1))\n",
    "\n",
    "plt.show()"
   ]
  },
  {
   "cell_type": "code",
   "execution_count": 7,
   "id": "8d650afd",
   "metadata": {
    "scrolled": false
   },
   "outputs": [
    {
     "data": {
      "image/png": "[encoded data removed]",
      "text/plain": [
       "<Figure size 432x288 with 1 Axes>"
      ]
     },
     "metadata": {
      "needs_background": "light"
     },
     "output_type": "display_data"
    }
   ],
   "source": [
    "# Authors: Robert McGibbon, Joel Nothman, Guillaume Lemaitre\n",
    "\n",
    "import numpy as np\n",
    "import matplotlib.pyplot as plt\n",
    "from sklearn.model_selection import GridSearchCV\n",
    "from sklearn.pipeline import Pipeline\n",
    "from sklearn.naive_bayes import MultinomialNB\n",
    "from sklearn.feature_selection import SelectKBest, chi2\n",
    "\n",
    "pipe = Pipeline(\n",
    "    [\n",
    "        # the reduce_dim stage is populated by the param_grid\n",
    "        (\"reduce_dim\", \"passthrough\"),\n",
    "        (\"classify\", MultinomialNB(alpha=.01)),\n",
    "    ]\n",
    ")\n",
    "\n",
    "N_FEATURES_OPTIONS = np.arange(50, 5000, 50)\n",
    "\n",
    "\n",
    "param_grid = [\n",
    "    {\n",
    "        \"reduce_dim\": [SelectKBest(chi2)],\n",
    "        \"reduce_dim__k\": N_FEATURES_OPTIONS,\n",
    "    },\n",
    "]\n",
    "reducer_labels = [\"KBest(chi2)\", \"KBest(chi2)\", \"KBest(chi2)\",\"KBest(chi2)\"]\n",
    "\n",
    "grid = GridSearchCV(pipe, n_jobs=1, param_grid=param_grid)\n",
    "grid.fit(Xtr, ytr)\n",
    "\n",
    "mean_scores = np.array(grid.cv_results_[\"mean_test_score\"])\n",
    "# scores are in the order of param_grid iteration, which is alphabetical\n",
    "# select score for best C\n",
    "\n",
    "plt.plot(N_FEATURES_OPTIONS, mean_scores)\n",
    "\n",
    "plt.title(\"Feature reduction using Chi2\")\n",
    "plt.xlabel(\"Reduced number of features\")\n",
    "plt.ylabel(\"Classification accuracy\")\n",
    "plt.ylim((0, 1))\n",
    "\n",
    "plt.show()"
   ]
  },
  {
   "cell_type": "markdown",
   "id": "57d7e46d",
   "metadata": {},
   "source": [
    "It is clear for the graphs that using chi2 filter, an optimal number of features could be found since using all of them would be computationally expensive and may not be that meaningfull(noisy data, stopwords) in the context of classification. From the figure the optimal number of features would be just be the point where accuraccy stars to plateau(elbow-method)."
   ]
  },
  {
   "cell_type": "markdown",
   "id": "642eb159",
   "metadata": {},
   "source": [
    "### 2.3 Does the proposed feature scaling affect every Machine-Learning model? If not, which models are affected and which models are not? Justify your answer in respect to the parametrization of your chosen models! (Gaussian-Naive-Bayes, Logistic-Regression and non-linear Support-Vector-Machine models might be good candidates for your reasoning.)\n"
   ]
  },
  {
   "cell_type": "markdown",
   "id": "780250f9",
   "metadata": {},
   "source": [
    "Feature scaling is a method used to normalize the range of features of data. Just to give you an example — if you have multiple independent variables like age, salary, and height; With their range as (18–100 Years), (25,000–75,000 Euros), and (1–2 Meters) respectively, feature scaling would help them all to be in the same range, for example- centered around 0 or in the range (0,1) depending on the scaling technique.\n",
    "\n",
    "Feature scaling intuitively have more effect on the performance of the distance based learning algorithms such as KNN, SVMs as all features have essenntialy an equal weight in learning as opposed to unscaled features. E.g. KNN using euclidean distance will always give inflated distances for features having larger scales e.g. salary as opposed to age.\n",
    "\n",
    "Also, 'If an algorithm uses gradient descent such as logisitic regression and neural networks, then the difference in ranges of features will cause different step sizes for each feature. To ensure that the gradient descent moves smoothly towards the minima and that the steps for gradient descent are updated at the same rate for all the features, we scale the data before feeding it to the model. Having features on a similar scale will help the gradient descent converge more quickly towards the minima'.\n",
    "\n",
    "#### Where not that useful?\n",
    "Tree-based algorithms are fairly insensitive to the scale of the features. A decision tree is only splitting a node based on a single feature. The decision tree splits a node on a feature that increases the homogeneity of the node. This split on a feature is not influenced by other features. Hence, there is virtually no effect of the remaining features on the split. Similarly Naive Bayes have little sensitivity to feature scaling."
   ]
  },
  {
   "cell_type": "markdown",
   "id": "5d1b397f",
   "metadata": {},
   "source": [
    "### 2.4 Use an iteratively trained classifier on a classification task of your own choice (you can consider a benchmark dataset like 20 Newsgroups and a tool-kit of your choice). Compare its convergence when trained on the original feature and on scaled features. Provide plots where ever possible to explain your answer. What do you observe and how can this phenomenon be explained?\n",
    "\n"
   ]
  },
  {
   "cell_type": "code",
   "execution_count": 16,
   "id": "f42f2d32",
   "metadata": {},
   "outputs": [],
   "source": [
    "scaler = StandardScaler(with_mean=False)\n",
    "Xtr_scaled = scaler.fit_transform(Xtr)\n",
    "Xtt_scaled = scaler.transform(Xtt)"
   ]
  },
  {
   "cell_type": "code",
   "execution_count": null,
   "id": "501efb7d",
   "metadata": {},
   "outputs": [],
   "source": [
    "# Defining the model\n",
    "model1 = Sequential()\n",
    "model1.add(Dense(40, input_dim=Xtr.shape[1], activation='relu'))\n",
    "model1.add(Dense(20, activation='softmax'))\n",
    "model1.compile(optimizer='adam', loss='categorical_crossentropy', metrics=['accuracy'])\n",
    "\n",
    "\n",
    "# Model checkpoints and stoppers. Save the best weights and stops the model when no increase in performance to save time.\n",
    "esc = EarlyStopping(monitor='val_loss', min_delta=0, patience=3, verbose=1, mode='auto')\n",
    "cp = ModelCheckpoint(filepath=\"weights.hdf5\", monitor='val_loss', verbose=1, save_best_only=True)\n",
    "\n",
    "batch_size = 128\n",
    "\n",
    "# fitting the model.\n",
    "m1 = model1.fit(Xtr, ytr, batch_size=batch_size, epochs=500, callbacks=[esc, cp], validation_split=0.2)"
   ]
  },
  {
   "cell_type": "code",
   "execution_count": null,
   "id": "0a4eb8b1",
   "metadata": {},
   "outputs": [],
   "source": [
    "# Defining the model\n",
    "model2 = Sequential()\n",
    "model2.add(Dense(40, input_dim=Xtr.shape[1], activation='relu'))\n",
    "model2.add(Dense(20, activation='softmax'))\n",
    "model2.compile(optimizer='adam', loss='categorical_crossentropy', metrics=['accuracy'])\n",
    "\n",
    "\n",
    "# Model checkpoints and stoppers. Save the best weights and stops the model when no increase in performance to save time.\n",
    "esc = EarlyStopping(monitor='val_loss', min_delta=0, patience=3, verbose=1, mode='auto')\n",
    "cp = ModelCheckpoint(filepath=\"weights_model2.hdf5\", monitor='val_loss', verbose=1, save_best_only=True)\n",
    "\n",
    "batch_size = 128\n",
    "\n",
    "# fitting the model.\n",
    "m2 = model2.fit(Xtr_scaled, ytr, batch_size=batch_size, epochs=500, callbacks=[esc, cp], validation_split=0.2)"
   ]
  },
  {
   "cell_type": "code",
   "execution_count": 22,
   "id": "4ca85c83",
   "metadata": {},
   "outputs": [
    {
     "data": {
      "image/png": "[encoded data removed]",
      "text/plain": [
       "<Figure size 432x288 with 1 Axes>"
      ]
     },
     "metadata": {
      "needs_background": "light"
     },
     "output_type": "display_data"
    }
   ],
   "source": [
    "# Training Accuracy History\n",
    "plt.title('Accuracy')\n",
    "plt.plot(m1.history['accuracy'], label='validation_unscaled')\n",
    "plt.plot(m2.history['accuracy'], label='validation_scaled')\n",
    "plt.legend()\n",
    "plt.show();"
   ]
  },
  {
   "cell_type": "code",
   "execution_count": null,
   "id": "8fd175d5",
   "metadata": {},
   "outputs": [],
   "source": [
    "import matplotlib.pyplot as plt"
   ]
  },
  {
   "cell_type": "code",
   "execution_count": 2,
   "id": "d1fa5414",
   "metadata": {},
   "outputs": [
    {
     "ename": "NameError",
     "evalue": "name 'plt' is not defined",
     "output_type": "error",
     "traceback": [
      "\u001b[1;31m---------------------------------------------------------------------------\u001b[0m",
      "\u001b[1;31mNameError\u001b[0m                                 Traceback (most recent call last)",
      "Input \u001b[1;32mIn [2]\u001b[0m, in \u001b[0;36m<cell line: 2>\u001b[1;34m()\u001b[0m\n\u001b[0;32m      1\u001b[0m \u001b[38;5;66;03m# Training Accuracy History\u001b[39;00m\n\u001b[1;32m----> 2\u001b[0m \u001b[43mplt\u001b[49m\u001b[38;5;241m.\u001b[39mtitle(\u001b[38;5;124m'\u001b[39m\u001b[38;5;124mValidation Accuracy\u001b[39m\u001b[38;5;124m'\u001b[39m)\n\u001b[0;32m      3\u001b[0m plt\u001b[38;5;241m.\u001b[39mplot(m1\u001b[38;5;241m.\u001b[39mhistory[\u001b[38;5;124m'\u001b[39m\u001b[38;5;124mval_accuracy\u001b[39m\u001b[38;5;124m'\u001b[39m], label\u001b[38;5;241m=\u001b[39m\u001b[38;5;124m'\u001b[39m\u001b[38;5;124mvalidation_unscaled\u001b[39m\u001b[38;5;124m'\u001b[39m)\n\u001b[0;32m      4\u001b[0m plt\u001b[38;5;241m.\u001b[39mplot(m2\u001b[38;5;241m.\u001b[39mhistory[\u001b[38;5;124m'\u001b[39m\u001b[38;5;124mval_accuracy\u001b[39m\u001b[38;5;124m'\u001b[39m], label\u001b[38;5;241m=\u001b[39m\u001b[38;5;124m'\u001b[39m\u001b[38;5;124mvalidation_scaled\u001b[39m\u001b[38;5;124m'\u001b[39m)\n",
      "\u001b[1;31mNameError\u001b[0m: name 'plt' is not defined"
     ]
    }
   ],
   "source": [
    "# Training Accuracy History\n",
    "plt.title('Validation Accuracy')\n",
    "plt.plot(m1.history['val_accuracy'], label='validation_unscaled')\n",
    "plt.plot(m2.history['val_accuracy'], label='validation_scaled')\n",
    "plt.legend()\n",
    "plt.show();\n"
   ]
  },
  {
   "cell_type": "code",
   "execution_count": 21,
   "id": "0999ceee",
   "metadata": {},
   "outputs": [
    {
     "data": {
      "image/png": "[encoded data removed]",
      "text/plain": [
       "<Figure size 432x288 with 1 Axes>"
      ]
     },
     "metadata": {
      "needs_background": "light"
     },
     "output_type": "display_data"
    }
   ],
   "source": [
    "# Training Loss History\n",
    "plt.title('Loss')\n",
    "plt.plot(m1.history['loss'], label='unscaled')\n",
    "plt.plot(m2.history['loss'], label='scaled')\n",
    "plt.legend()\n",
    "plt.show();"
   ]
  },
  {
   "cell_type": "markdown",
   "id": "25f7d328",
   "metadata": {},
   "source": [
    "It is quite clear from the graphs that iteratively trained classifier converge much faster when trained on scaled features then on unscaled features. \n",
    "\n",
    "'If an algorithm uses gradient descent, then the difference in ranges of features will cause different step sizes for each feature. To ensure that the gradient descent moves smoothly towards the minima and that the steps for gradient descent are updated at the same rate for all the features, we scale the data before feeding it to the model. Having features on a similar scale will help the gradient descent converge more quickly towards the minima.'"
   ]
  }
 ],
 "metadata": {
  "kernelspec": {
   "display_name": "venv",
   "language": "python",
   "name": "venv"
  },
  "language_info": {
   "codemirror_mode": {
    "name": "ipython",
    "version": 3
   },
   "file_extension": ".py",
   "mimetype": "text/x-python",
   "name": "python",
   "nbconvert_exporter": "python",
   "pygments_lexer": "ipython3",
   "version": "3.8.1"
  }
 },
 "nbformat": 4,
 "nbformat_minor": 5
}
